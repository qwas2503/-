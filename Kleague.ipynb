{
 "cells": [
  {
   "cell_type": "code",
   "execution_count": 7,
   "metadata": {},
   "outputs": [],
   "source": [
    "from selenium import webdriver\n",
    "from bs4 import BeautifulSoup\n",
    "import xlsxwriter\n",
    "\n",
    "workbook = xlsxwriter.Workbook('kleague.xlsx') #파일명\n",
    "worksheet = workbook.add_worksheet()\n",
    "\n",
    "driver = webdriver.Chrome()\n",
    "\n",
    "row = 0\n",
    "for a in range(1, 50):\n",
    "    worksheet.write(row, 0, a)\n",
    "    worksheet.write(row+1, 0, a)\n",
    "    driver.get('https://www.kleague.com/match.do?year=2020&leagueId=1&gameId='+str(a)+'&meetSeq=1&startTabNum=4')\n",
    "    driver.find_element_by_class_name('bar-wrap-btn').click()\n",
    "    \n",
    "    driver.implicitly_wait(10)\n",
    "    html = driver.page_source\n",
    "\n",
    "    soup = BeautifulSoup(html,'html.parser')\n",
    "    team1 = soup.select('div.team-box')[0].text.strip()[:2]\n",
    "    team2 = soup.select('div.team-box')[1].text.strip()[:2]\n",
    "    worksheet.write(row, 1, team1)\n",
    "    worksheet.write(row+1, 1, team2)\n",
    "    score1 = soup.select('div#matchInfoArea')[0].text[0]\n",
    "    score2 = soup.select('div#matchInfoArea')[0].text[2]\n",
    "    worksheet.write(row, 2, score1)\n",
    "    worksheet.write(row+1, 2, score2)\n",
    "    records = soup.select('ul#matchRecordArea li')\n",
    "    col = 3\n",
    "    for record in records:\n",
    "        record1 = record.select('div.score')[0].text\n",
    "        record2 = record.select('div.score')[1].text\n",
    "        worksheet.write(row, col, record1)\n",
    "        worksheet.write(row+1, col, record2)\n",
    "        col += 1\n",
    "    records = soup.select('ul#firstPossessionArea li')\n",
    "    \n",
    "    for record in records:\n",
    "        record1 = record.select('div.score')[0].text\n",
    "        record2 = record.select('div.score')[1].text\n",
    "        worksheet.write(row, col, record1)\n",
    "        worksheet.write(row+1, col, record2)\n",
    "        col += 1\n",
    "    records = soup.select('ul#secondPossessionArea li')\n",
    "    \n",
    "    for record in records:\n",
    "        record1 = record.select('div.score')[0].text\n",
    "        record2 = record.select('div.score')[1].text\n",
    "        worksheet.write(row, col, record1)\n",
    "        worksheet.write(row+1, col, record2)\n",
    "        col += 2\n",
    "\n",
    "    row += 2\n",
    "    \n",
    "workbook.close()"
   ]
  },
  {
   "cell_type": "code",
   "execution_count": null,
   "metadata": {},
   "outputs": [],
   "source": []
  }
 ],
 "metadata": {
  "kernelspec": {
   "display_name": "Python 3",
   "language": "python",
   "name": "python3"
  },
  "language_info": {
   "codemirror_mode": {
    "name": "ipython",
    "version": 3
   },
   "file_extension": ".py",
   "mimetype": "text/x-python",
   "name": "python",
   "nbconvert_exporter": "python",
   "pygments_lexer": "ipython3",
   "version": "3.7.9"
  }
 },
 "nbformat": 3,
 "nbformat_minor": 5
}
